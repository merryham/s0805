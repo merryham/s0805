{
 "cells": [
  {
   "cell_type": "code",
   "execution_count": null,
   "metadata": {},
   "outputs": [],
   "source": [
    "from socket import *\n",
    "serverSock = socket(AF_INET, SOCK_STREAM)\n",
    "serverSock.bind(('', 9000))\n",
    "print(\"hello\")\n",
    "serverSock.listen(1)\n",
    "\n",
    "connectionSock, addr = serverSock.accept()\n",
    "\n",
    "\n",
    "print(str(addr),'에서 접속이 확인되었습니다.')\n",
    "data = connectionSock.recv(1024)\n",
    "print('받은 데이터 : ', data.decode('utf-8'))\n",
    "connectionSock.send('I am a server.'.encode('utf-8'))\n",
    "print('메시지를 보냈습니다.')\n",
    "    "
   ]
  },
  {
   "cell_type": "code",
   "execution_count": null,
   "metadata": {},
   "outputs": [],
   "source": []
  }
 ],
 "metadata": {
  "kernelspec": {
   "display_name": "Python 3",
   "language": "python",
   "name": "python3"
  },
  "language_info": {
   "codemirror_mode": {
    "name": "ipython",
    "version": 3
   },
   "file_extension": ".py",
   "mimetype": "text/x-python",
   "name": "python",
   "nbconvert_exporter": "python",
   "pygments_lexer": "ipython3",
   "version": "3.7.3"
  }
 },
 "nbformat": 4,
 "nbformat_minor": 2
}
